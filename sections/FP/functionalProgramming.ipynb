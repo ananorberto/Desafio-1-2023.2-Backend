{
 "cells": [
  {
   "cell_type": "markdown",
   "metadata": {},
   "source": [
    "# __Desafio 1 - Backend__"
   ]
  },
  {
   "cell_type": "markdown",
   "metadata": {},
   "source": [
    "### **Functional Programming**"
   ]
  },
  {
   "cell_type": "markdown",
   "metadata": {},
   "source": [
    "1- Use the **map** Method to Extract Data from an Array\n",
    "\n",
    "- O método `map` é usado para iterar por cada objeto na matriz\n",
    "- O `parseFloat` converte o valor de uma string para um número de ponto flutuante"
   ]
  },
  {
   "cell_type": "code",
   "execution_count": null,
   "metadata": {
    "vscode": {
     "languageId": "javascript"
    }
   },
   "outputs": [],
   "source": [
    "// The global variable\n",
    "const watchList = [\n",
    "  {\n",
    "    \"Title\": \"Interstellar\",\n",
    "    \"Year\": \"2014\",\n",
    "    \"Rated\": \"PG-13\",\n",
    "    \"Released\": \"07 Nov 2014\",\n",
    "    \"Runtime\": \"169 min\",\n",
    "    \"Genre\": \"Adventure, Drama, Sci-Fi\",\n",
    "    \"Director\": \"Christopher Nolan\"\n",
    "    // ...\n",
    "  },\n",
    "  {\n",
    "    // title, year, rated ...\n",
    "  },\n",
    "  {\n",
    "    // title, year, rated ...\n",
    "  }\n",
    "];\n",
    "\n",
    "const ratings = watchList.map(movie => ({ \n",
    "  title: movie.Title, \n",
    "  rating: movie.imdbRating \n",
    "}));\n",
    "\n",
    "console.log(ratings);"
   ]
  },
  {
   "cell_type": "markdown",
   "metadata": {},
   "source": [
    "2- Use the **filter** Method to Extract Data from an Array\n",
    "- O método `filter` vai selecionar apenas os filmes com classificação IMDb >= 8.0\n",
    "- Depois o `map` cria um novo array com os filmes selecionados"
   ]
  },
  {
   "cell_type": "code",
   "execution_count": null,
   "metadata": {
    "vscode": {
     "languageId": "javascript"
    }
   },
   "outputs": [],
   "source": [
    "// The global variable\n",
    "const watchList = [\n",
    "  {\n",
    "    \"Title\": \"Interstellar\",\n",
    "    \"Year\": \"2014\",\n",
    "    \"Rated\": \"PG-13\",\n",
    "    \"Released\": \"07 Nov 2014\",\n",
    "    \"Runtime\": \"169 min\",\n",
    "    \"Genre\": \"Adventure, Drama, Sci-Fi\",\n",
    "    \"Director\": \"Christopher Nolan\"\n",
    "    // ...\n",
    "  },\n",
    "  {\n",
    "    // title, year, rated ...\n",
    "  },\n",
    "  {\n",
    "    // title, year, rated ...\n",
    "  }\n",
    "];\n",
    "\n",
    "\n",
    "const filteredList = watchList\n",
    "  .filter(movie => (movie.imdbRating) >= 8.0)\n",
    "  .map(movie => ({ \n",
    "    title: movie.Title, \n",
    "    rating: movie.imdbRating \n",
    "}));\n",
    "\n",
    "console.log(filteredList);"
   ]
  },
  {
   "cell_type": "markdown",
   "metadata": {},
   "source": [
    "3- Return Part of an Array Using the slice Method\n",
    "- O `slice` retorna uma cópia de elementos específicos de um array\n"
   ]
  },
  {
   "cell_type": "code",
   "execution_count": null,
   "metadata": {
    "vscode": {
     "languageId": "javascript"
    }
   },
   "outputs": [],
   "source": [
    "function sliceArray(anim, beginSlice, endSlice) {\n",
    "\n",
    "  const newArray = inputAnim.slice(beginSlice, endSlice);\n",
    "  return newArray;\n",
    "  \n",
    "  }\n",
    "  \n",
    "  const inputAnim = [\"Cat\", \"Dog\", \"Tiger\", \"Zebra\", \"Ant\"];\n",
    "  sliceArray(inputAnim, 1, 3);"
   ]
  },
  {
   "cell_type": "markdown",
   "metadata": {},
   "source": [
    "4- Combine Two Arrays Using the concat Method"
   ]
  },
  {
   "cell_type": "code",
   "execution_count": null,
   "metadata": {
    "vscode": {
     "languageId": "javascript"
    }
   },
   "outputs": [],
   "source": [
    "function nonMutatingConcat(original, attach) {\n",
    "\n",
    "  return original.concat(attach);\n",
    "  \n",
    "  }\n",
    "  \n",
    "  const first = [1, 2, 3];\n",
    "  const second = [4, 5];\n",
    "  nonMutatingConcat(first, second);"
   ]
  },
  {
   "cell_type": "markdown",
   "metadata": {},
   "source": [
    "5- Use the reduce Method to Analyze Data\n",
    "- O `reduce` permite realizar varias operações em um array depois retorna um único valor\n",
    "  "
   ]
  },
  {
   "cell_type": "code",
   "execution_count": null,
   "metadata": {
    "vscode": {
     "languageId": "javascript"
    }
   },
   "outputs": [],
   "source": [
    "// The global variable\n",
    "const watchList = [\n",
    "  {\n",
    "    \"Title\": \"Interstellar\",\n",
    "    \"Year\": \"2014\",\n",
    "    \"Rated\": \"PG-13\",\n",
    "    \"Released\": \"07 Nov 2014\",\n",
    "    \"Runtime\": \"169 min\",\n",
    "    \"Genre\": \"Adventure, Drama, Sci-Fi\",\n",
    "    \"Director\": \"Christopher Nolan\"\n",
    "    // ...\n",
    "  },\n",
    "  {\n",
    "    // title, year, rated ...\n",
    "  },\n",
    "  {\n",
    "    // title, year, rated ...\n",
    "  }\n",
    "];\n",
    "  \n",
    "function getRating(watchList) {\n",
    "\n",
    "  const filterNolan = watchList\n",
    "  .filter(movie => (movie.Director === \"Christopher Nolan\"));\n",
    "\n",
    "  const reduceRating = filterNolan\n",
    "  .reduce((sum, movie) => sum + parseFloat(movie.imdbRating), 0);\n",
    "\n",
    "  const averageRating = reduceRating/filterNolan.length;\n",
    "\n",
    "  return averageRating;\n",
    "}\n",
    "\n",
    "console.log(getRating(watchList));"
   ]
  },
  {
   "cell_type": "markdown",
   "metadata": {},
   "source": [
    "6- Use Higher-Order Functions map, filter, or reduce to Solve a Complex Problem"
   ]
  },
  {
   "cell_type": "code",
   "execution_count": null,
   "metadata": {
    "vscode": {
     "languageId": "javascript"
    }
   },
   "outputs": [],
   "source": [
    "const squareList = arr => {\n",
    "\n",
    "  const squaredIntegers = arr\n",
    "  .filter(num => num >0 && num === parseInt(num))\n",
    "  .map(num => num * num);\n",
    "\n",
    "  return squaredIntegers;\n",
    "};\n",
    "\n",
    "const squaredIntegers = squareList([-3, 4.8, 5, 3, -3.2]);\n",
    "console.log(squaredIntegers);"
   ]
  },
  {
   "cell_type": "markdown",
   "metadata": {},
   "source": [
    "7- Sort an Array Alphabetically using the sort Method\n"
   ]
  },
  {
   "cell_type": "code",
   "execution_count": null,
   "metadata": {
    "vscode": {
     "languageId": "javascript"
    }
   },
   "outputs": [],
   "source": [
    "function alphabeticalOrder(arr) {\n",
    "    return arr.sort();\n",
    "}\n",
    "  \n",
    "  alphabeticalOrder([\"a\", \"d\", \"c\", \"a\", \"z\", \"g\"]);"
   ]
  },
  {
   "cell_type": "markdown",
   "metadata": {},
   "source": [
    "8- Split a String into an Array Using the split Method\n",
    "- `/`  :  inicio da expressão regular\n",
    "- `\\W` :  caracteres não alfanuméricos\n",
    "- `+`  :  1 ou mais"
   ]
  },
  {
   "cell_type": "code",
   "execution_count": null,
   "metadata": {
    "vscode": {
     "languageId": "javascript"
    }
   },
   "outputs": [],
   "source": [
    "function splitify(str) {\n",
    "\n",
    "    return str.split(/\\W+/);\n",
    "  }\n",
    "  \n",
    "  splitify(\"Hello World,I-am code\");"
   ]
  },
  {
   "cell_type": "markdown",
   "metadata": {},
   "source": [
    "9- Combine an Array into a String Using the join Method"
   ]
  },
  {
   "cell_type": "code",
   "execution_count": null,
   "metadata": {
    "vscode": {
     "languageId": "javascript"
    }
   },
   "outputs": [],
   "source": [
    "function sentensify(str) {\n",
    "\n",
    "    const arr = str.split(/\\W+/);\n",
    "    return arr.join(\" \");\n",
    "\n",
    "}\n",
    "\n",
    "sentensify(\"May-the-force-be-with-you\");"
   ]
  },
  {
   "cell_type": "markdown",
   "metadata": {},
   "source": [
    "10- Use the every Method to Check that Every Element in an Array Meets a Criteria"
   ]
  },
  {
   "cell_type": "code",
   "execution_count": null,
   "metadata": {
    "vscode": {
     "languageId": "javascript"
    }
   },
   "outputs": [],
   "source": [
    "function checkPositive(arr) {\n",
    "\n",
    "    return arr.every(function(currentValue) {\n",
    "      return currentValue > 0;\n",
    "    });\n",
    "  \n",
    "  }\n",
    "  \n",
    "  checkPositive([1, 2, 3, -4, 5]);"
   ]
  },
  {
   "cell_type": "markdown",
   "metadata": {},
   "source": [
    "11- Use the some Method to Check that Any Elements in an Array Meet a Criteria"
   ]
  },
  {
   "cell_type": "code",
   "execution_count": null,
   "metadata": {
    "vscode": {
     "languageId": "javascript"
    }
   },
   "outputs": [],
   "source": [
    "function checkPositive(arr) {\n",
    "\n",
    "    return arr.some(function(currentValue) {\n",
    "      return currentValue > 0;\n",
    "    });\n",
    "  \n",
    "  }\n",
    "  \n",
    "  checkPositive([1, 2, 3, -4, 5]);"
   ]
  }
 ],
 "metadata": {
  "language_info": {
   "name": "python"
  }
 },
 "nbformat": 4,
 "nbformat_minor": 2
}
