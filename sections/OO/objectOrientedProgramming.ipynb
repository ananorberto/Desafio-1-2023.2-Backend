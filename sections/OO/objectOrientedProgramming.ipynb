{
 "cells": [
  {
   "cell_type": "markdown",
   "metadata": {},
   "source": [
    "# __Desafio 1 - Backend__"
   ]
  },
  {
   "cell_type": "markdown",
   "metadata": {},
   "source": [
    "### **Object Oriented Programming**"
   ]
  },
  {
   "cell_type": "markdown",
   "metadata": {},
   "source": [
    "1- Create a basic JavaScript Object"
   ]
  },
  {
   "cell_type": "code",
   "execution_count": null,
   "metadata": {
    "vscode": {
     "languageId": "javascript"
    }
   },
   "outputs": [],
   "source": [
    "let dog = {\n",
    "    name: \"Tequita\",\n",
    "    numLegs: 4\n",
    "  };"
   ]
  },
  {
   "cell_type": "markdown",
   "metadata": {},
   "source": [
    "2- Use Dot Notation to Access the Properties of an Object"
   ]
  },
  {
   "cell_type": "code",
   "execution_count": null,
   "metadata": {
    "vscode": {
     "languageId": "javascript"
    }
   },
   "outputs": [],
   "source": [
    "let dog = {\n",
    "    name: \"Tequita\",\n",
    "    numLegs: 4\n",
    "  };\n",
    "  \n",
    "  console.log(dog.name, dog.numLegs);"
   ]
  },
  {
   "cell_type": "markdown",
   "metadata": {},
   "source": [
    "3- Create a Method on an Object\n"
   ]
  },
  {
   "cell_type": "code",
   "execution_count": null,
   "metadata": {
    "vscode": {
     "languageId": "javascript"
    }
   },
   "outputs": [],
   "source": [
    "let dog = {\n",
    "    name: \"Tequita\",\n",
    "    numLegs: 4,\n",
    "    sayLegs: function() {return \"This dog has \" + dog.numLegs + \" legs.\";}\n",
    "  };\n",
    "  \n",
    "  console.log(dog.sayLegs());"
   ]
  },
  {
   "cell_type": "markdown",
   "metadata": {},
   "source": [
    "4- Make Code More Reusable with the this Keyword\n"
   ]
  },
  {
   "cell_type": "code",
   "execution_count": null,
   "metadata": {
    "vscode": {
     "languageId": "javascript"
    }
   },
   "outputs": [],
   "source": [
    "let dog = {\n",
    "    name: \"Tequita\",\n",
    "    numLegs: 4,\n",
    "    sayLegs: function() {return \"This dog has \" + this.numLegs + \" legs.\";}\n",
    "  };\n",
    "  \n",
    "  console.log(dog.sayLegs());"
   ]
  },
  {
   "cell_type": "markdown",
   "metadata": {},
   "source": [
    "5- Define a Constructor Function\n"
   ]
  },
  {
   "cell_type": "code",
   "execution_count": null,
   "metadata": {
    "vscode": {
     "languageId": "javascript"
    }
   },
   "outputs": [],
   "source": [
    "function Dog(){\n",
    "    this.name = \"Tequita\";\n",
    "    this.color = \"brown\";\n",
    "    this.numLegs = 4;\n",
    "  }"
   ]
  },
  {
   "cell_type": "markdown",
   "metadata": {},
   "source": [
    "6- Use a Constructor to Create Objects\n"
   ]
  },
  {
   "cell_type": "code",
   "execution_count": null,
   "metadata": {
    "vscode": {
     "languageId": "javascript"
    }
   },
   "outputs": [],
   "source": [
    "function Dog(){\n",
    "    this.name = \"Tequita\";\n",
    "    this.color = \"brown\";\n",
    "    this.numLegs = 4;\n",
    "  }\n",
    "\n",
    "let hound = new Dog();"
   ]
  },
  {
   "cell_type": "markdown",
   "metadata": {},
   "source": [
    "7- Extend Constructors to Receive Arguments\n"
   ]
  },
  {
   "cell_type": "code",
   "execution_count": null,
   "metadata": {
    "vscode": {
     "languageId": "javascript"
    }
   },
   "outputs": [],
   "source": [
    "function Dog(name, color) {\n",
    "    this.name = name;\n",
    "    this.color = color;\n",
    "    this.numLegs = 4;\n",
    "  }\n",
    "  \n",
    "  let terrier = new Dog(\"Tequita\", \"brown\")"
   ]
  },
  {
   "cell_type": "markdown",
   "metadata": {},
   "source": [
    "8- Verify an Object's Constructor with instanceof"
   ]
  },
  {
   "cell_type": "code",
   "execution_count": null,
   "metadata": {
    "vscode": {
     "languageId": "javascript"
    }
   },
   "outputs": [],
   "source": [
    "function House(numBedrooms) {\n",
    "    this.numBedrooms = numBedrooms;\n",
    "  }\n",
    "  \n",
    "  let myHouse = {\n",
    "    numBedrooms: 2\n",
    "  };\n",
    "  \n",
    "  myHouse instanceof House;"
   ]
  }
 ],
 "metadata": {
  "language_info": {
   "name": "python"
  }
 },
 "nbformat": 4,
 "nbformat_minor": 2
}
